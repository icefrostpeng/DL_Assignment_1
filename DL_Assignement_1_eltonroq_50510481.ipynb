{
 "cells": [
  {
   "cell_type": "code",
   "execution_count": 93,
   "metadata": {},
   "outputs": [],
   "source": [
    "import torch\n",
    "import torch.nn as nn\n",
    "import torch.optim as optim\n",
    "from torchvision import datasets, transforms\n",
    "from torch.utils.data import DataLoader\n",
    "import matplotlib.pyplot as plt\n",
    "import torch.nn.functional as F"
   ]
  },
  {
   "cell_type": "code",
   "execution_count": 94,
   "metadata": {},
   "outputs": [],
   "source": [
    "class FNN(nn.Module):\n",
    "\n",
    "    def __init__(self):\n",
    "        super(FNN, self).__init__()\n",
    "\n",
    "        self.conv1 = nn.Conv2d(1, 32, 5, 1, 2)\n",
    "        self.conv2 = nn.Conv2d(32, 64, 5, 1, 2)\n",
    "        self.fc1 = nn.Linear(64*7*7, 128)\n",
    "        self.fc2 = nn.Linear(128, 84)\n",
    "        self.fc3 = nn.Linear(84, 10)\n",
    "\n",
    "    def forward(self, x):\n",
    "\n",
    "        x = F.max_pool2d(F.relu(self.conv1(x)), 2)\n",
    "        x = F.max_pool2d(F.relu(self.conv2(x)), 2)\n",
    "        x = torch.flatten(x, 1)\n",
    "        x = F.relu(self.fc1(x))\n",
    "        x = F.relu(self.fc2(x))\n",
    "        x = self.fc3(x)\n",
    "        x = nn.functional.log_softmax(x, dim=1)\n",
    "        return x"
   ]
  },
  {
   "cell_type": "code",
   "execution_count": 95,
   "metadata": {},
   "outputs": [],
   "source": [
    "train_dataset = datasets.MNIST(root='data', train=True, download=True, transform=transforms.ToTensor())\n",
    "test_dataset = datasets.MNIST(root='data', train=False, download=True, transform=transforms.ToTensor())"
   ]
  },
  {
   "cell_type": "code",
   "execution_count": 96,
   "metadata": {},
   "outputs": [],
   "source": [
    "train_loader = DataLoader(train_dataset, batch_size=64, shuffle=True)\n",
    "test_loader = DataLoader(test_dataset, batch_size=1000, shuffle=False)"
   ]
  },
  {
   "cell_type": "code",
   "execution_count": 97,
   "metadata": {},
   "outputs": [],
   "source": [
    "model = FNN()\n",
    "loss_fn = nn.CrossEntropyLoss()\n",
    "optimizer = optim.SGD(model.parameters(), lr=0.001)"
   ]
  },
  {
   "cell_type": "code",
   "execution_count": 98,
   "metadata": {},
   "outputs": [],
   "source": [
    "def train(model, loader, optimizer, loss_fn, epochs):\n",
    "    model.train()\n",
    "    train_loss_arr = []\n",
    "    test_loss_arr = []\n",
    "    for epoch in range(epochs):\n",
    "        total_loss = 0\n",
    "        total_samples=0\n",
    "        total_correct=0\n",
    "        for i, (data, target) in enumerate(loader):\n",
    "            optimizer.zero_grad()\n",
    "            output = model(data)\n",
    "            loss = loss_fn(output, target)\n",
    "            loss.backward()\n",
    "            optimizer.step()\n",
    "            total_loss += loss.item()\n",
    "        train_loss_arr.append(total_loss/len(loader))\n",
    "\n",
    "        model.eval()\n",
    "        test_loss = 0\n",
    "        correct = 0\n",
    "        total = 0\n",
    "        with torch.no_grad():\n",
    "            for data in test_loader:\n",
    "                images, labels = data\n",
    "                output = model(images)\n",
    "                test_loss += loss_fn(output, labels).item()\n",
    "                _, predicted = torch.max(output.data, 1)\n",
    "                # print(labels,predicted)\n",
    "                total += labels.size(0)\n",
    "                correct += (predicted == labels).sum().item()\n",
    "                # print(correct)\n",
    "        test_loss_arr.append(test_loss)\n",
    "        print(\"Accuracy: \", correct/total)\n",
    "        print(\"Epoch: \",epoch+1, \"Train Loss: \", train_loss_arr[-1] ,\", \", \"Test Loss: \", test_loss_arr[-1])\n",
    "    \n",
    "    return train_loss_arr, test_loss_arr"
   ]
  },
  {
   "cell_type": "code",
   "execution_count": 99,
   "metadata": {},
   "outputs": [
    {
     "name": "stdout",
     "output_type": "stream",
     "text": [
      "Accuracy:  0.1132\n",
      "Epoch:  1 Train Loss:  2.299340228282058 ,  Test Loss:  22.948171854019165\n",
      "Accuracy:  0.3212\n",
      "Epoch:  2 Train Loss:  2.289986962702737 ,  Test Loss:  22.838214635849\n",
      "Accuracy:  0.3163\n",
      "Epoch:  3 Train Loss:  2.2759880442609157 ,  Test Loss:  22.65421748161316\n",
      "Accuracy:  0.3403\n",
      "Epoch:  4 Train Loss:  2.2485832814722935 ,  Test Loss:  22.243059635162354\n",
      "Accuracy:  0.443\n",
      "Epoch:  5 Train Loss:  2.1772288767767867 ,  Test Loss:  21.054807901382446\n",
      "Accuracy:  0.589\n",
      "Epoch:  6 Train Loss:  1.928407405612311 ,  Test Loss:  16.411083698272705\n",
      "Accuracy:  0.7781\n",
      "Epoch:  7 Train Loss:  1.1786681552812743 ,  Test Loss:  8.06805270910263\n",
      "Accuracy:  0.837\n",
      "Epoch:  8 Train Loss:  0.6759901270429208 ,  Test Loss:  5.695286065340042\n",
      "Accuracy:  0.8676\n",
      "Epoch:  9 Train Loss:  0.524545199454212 ,  Test Loss:  4.679809778928757\n",
      "Accuracy:  0.8807\n",
      "Epoch:  10 Train Loss:  0.44737490431776944 ,  Test Loss:  4.0239366590976715\n",
      "Accuracy:  0.8917\n",
      "Epoch:  11 Train Loss:  0.39925450695031234 ,  Test Loss:  3.7152298986911774\n",
      "Accuracy:  0.9004\n",
      "Epoch:  12 Train Loss:  0.3648759418173131 ,  Test Loss:  3.3766987919807434\n",
      "Accuracy:  0.9076\n",
      "Epoch:  13 Train Loss:  0.33919387413208674 ,  Test Loss:  3.1550853103399277\n",
      "Accuracy:  0.9114\n",
      "Epoch:  14 Train Loss:  0.3181298547652739 ,  Test Loss:  2.9777159839868546\n",
      "Accuracy:  0.9177\n",
      "Epoch:  15 Train Loss:  0.2998748739470424 ,  Test Loss:  2.789556972682476\n",
      "Accuracy:  0.9197\n",
      "Epoch:  16 Train Loss:  0.2839412585234464 ,  Test Loss:  2.644724726676941\n",
      "Accuracy:  0.9256\n",
      "Epoch:  17 Train Loss:  0.27003073253865434 ,  Test Loss:  2.4910911917686462\n",
      "Accuracy:  0.9291\n",
      "Epoch:  18 Train Loss:  0.25660716684292884 ,  Test Loss:  2.403490222990513\n",
      "Accuracy:  0.9296\n",
      "Epoch:  19 Train Loss:  0.24468769331667214 ,  Test Loss:  2.3310122191905975\n",
      "Accuracy:  0.9364\n",
      "Epoch:  20 Train Loss:  0.2344456499001619 ,  Test Loss:  2.157225161790848\n",
      "Accuracy:  0.9378\n",
      "Epoch:  21 Train Loss:  0.2239538725457593 ,  Test Loss:  2.0647380352020264\n",
      "Accuracy:  0.9407\n",
      "Epoch:  22 Train Loss:  0.21464596091032917 ,  Test Loss:  1.9644748643040657\n",
      "Accuracy:  0.941\n",
      "Epoch:  23 Train Loss:  0.20621634061847413 ,  Test Loss:  1.9596173763275146\n",
      "Accuracy:  0.9445\n",
      "Epoch:  24 Train Loss:  0.19803697101549425 ,  Test Loss:  1.7996276170015335\n",
      "Accuracy:  0.9448\n",
      "Epoch:  25 Train Loss:  0.19033033966716292 ,  Test Loss:  1.782952155917883\n",
      "Accuracy:  0.9486\n",
      "Epoch:  26 Train Loss:  0.18272995162826738 ,  Test Loss:  1.6881557293236256\n",
      "Accuracy:  0.9502\n",
      "Epoch:  27 Train Loss:  0.17616183492245832 ,  Test Loss:  1.6367689967155457\n",
      "Accuracy:  0.9527\n",
      "Epoch:  28 Train Loss:  0.16946410212610194 ,  Test Loss:  1.541698507964611\n",
      "Accuracy:  0.9548\n",
      "Epoch:  29 Train Loss:  0.16362730870400666 ,  Test Loss:  1.4955687448382378\n",
      "Accuracy:  0.9551\n",
      "Epoch:  30 Train Loss:  0.1581415468310592 ,  Test Loss:  1.489817526191473\n"
     ]
    }
   ],
   "source": [
    "train_loss, test_loss = train(model, train_loader, optimizer, loss_fn, epochs=30)\n"
   ]
  },
  {
   "cell_type": "code",
   "execution_count": 100,
   "metadata": {},
   "outputs": [
    {
     "data": {
      "image/png": "[encoded data removed]",
      "text/plain": [
       "<Figure size 1000x500 with 1 Axes>"
      ]
     },
     "metadata": {},
     "output_type": "display_data"
    }
   ],
   "source": [
    "\n",
    "\n",
    "plt.figure(figsize=(10, 5))\n",
    "plt.plot(train_loss, label='Training loss')\n",
    "plt.plot(test_loss, label='Test loss')\n",
    "plt.title('Training and Test Loss Curves')\n",
    "plt.xlabel('Epochs')\n",
    "plt.ylabel('Loss')\n",
    "plt.legend()\n",
    "plt.show()"
   ]
  }
 ],
 "metadata": {
  "kernelspec": {
   "display_name": "py39",
   "language": "python",
   "name": "python3"
  },
  "language_info": {
   "codemirror_mode": {
    "name": "ipython",
    "version": 3
   },
   "file_extension": ".py",
   "mimetype": "text/x-python",
   "name": "python",
   "nbconvert_exporter": "python",
   "pygments_lexer": "ipython3",
   "version": "3.9.18"
  }
 },
 "nbformat": 4,
 "nbformat_minor": 2
}
